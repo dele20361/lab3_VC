{
 "cells": [
  {
   "cell_type": "code",
   "execution_count": 16,
   "metadata": {},
   "outputs": [],
   "source": [
    "import numpy as np\n",
    "import cv2\n",
    "import os\n",
    "from skimage.restoration import denoise_nl_means, estimate_sigma\n",
    "from sklearn.model_selection import train_test_split\n",
    "from tqdm import tqdm"
   ]
  },
  {
   "cell_type": "code",
   "execution_count": 17,
   "metadata": {},
   "outputs": [],
   "source": [
    "def leer_imagenes(folder, target_size=(32, 32)):\n",
    "    images = []\n",
    "    # Get the total number of images in the folder\n",
    "    num_images = len(os.listdir(folder))\n",
    "    # Initialize tqdm with total number of images\n",
    "    pbar = tqdm(total=num_images, desc='Processing Images')\n",
    "\n",
    "    for filename in os.listdir(folder):\n",
    "        img = cv2.imread(os.path.join(folder, filename))\n",
    "        if img is not None:\n",
    "            img_resized = cv2.resize(img, target_size)\n",
    "            images.append(img_resized)\n",
    "            # Update the progress bar\n",
    "            pbar.update(1)\n",
    "\n",
    "    # Close the progress bar\n",
    "    pbar.close()\n",
    "    return images"
   ]
  },
  {
   "cell_type": "code",
   "execution_count": 18,
   "metadata": {},
   "outputs": [],
   "source": [
    "def convertir_a_grises(images):\n",
    "    pbar = tqdm(total=len(images), desc='Converting to Gray')\n",
    "    # gray_images = [cv2.cvtColor(img, cv2.COLOR_BGR2GRAY) for img in images]\n",
    "    # gray_images = [np.expand_dims(img, axis=-1) for img in gray_images]\n",
    "    gray_images = []\n",
    "\n",
    "    for img in images:\n",
    "        temp_img = cv2.cvtColor(img, cv2.COLOR_BGR2GRAY)\n",
    "        temp_img = np.expand_dims(temp_img, axis=-1)\n",
    "        gray_images.append(temp_img)\n",
    "        pbar.update(1)\n",
    "    pbar.close()\n",
    "    return gray_images\n"
   ]
  },
  {
   "cell_type": "code",
   "execution_count": 19,
   "metadata": {},
   "outputs": [],
   "source": [
    "from skimage.restoration import denoise_nl_means, estimate_sigma\n",
    "\n",
    "def aplicar_filtro_anisotropico(images):\n",
    "    pbar = tqdm(total=len(images), desc='Aplying filter')\n",
    "    filtered_images = []\n",
    "    for image in images:\n",
    "        # Asegúrate de que image tiene la forma esperada, o ajusta el channel_axis\n",
    "        # Si las imágenes son (altura, anchura, 1), usa channel_axis=-1\n",
    "        sigma_est = np.mean(estimate_sigma(image, channel_axis=-1))\n",
    "        denoised = denoise_nl_means(image, h=1.15 * sigma_est, fast_mode=True,\n",
    "                                    patch_size=5, patch_distance=6)\n",
    "        filtered_images.append(denoised)\n",
    "        pbar.update(1)\n",
    "    pbar.close()\n",
    "    \n",
    "    return filtered_images\n"
   ]
  },
  {
   "cell_type": "code",
   "execution_count": 20,
   "metadata": {},
   "outputs": [],
   "source": [
    "def generar_muestras(images, filtered_images, k=32):\n",
    "    pbar = tqdm(total=len(images), desc='Generate Mustras')\n",
    "    x_list = []\n",
    "    y_list = []\n",
    "    for img, filtered_img in zip(images, filtered_images):\n",
    "\n",
    "        # x, y = np.random.randint(0, img.shape[0] - k), np.random.randint(0, img.shape[1] - k)\n",
    "        original_patch = img #[x:x+k, y:y+k]\n",
    "        filtered_patch = filtered_img #[x:x+k, y:y+k]\n",
    "        x_list.append(original_patch)\n",
    "        y_list.append(filtered_patch)\n",
    "        pbar.update(1)\n",
    "    pbar.close()\n",
    "    return np.array(x_list), np.array(y_list)  \n"
   ]
  },
  {
   "cell_type": "code",
   "execution_count": 21,
   "metadata": {},
   "outputs": [
    {
     "name": "stderr",
     "output_type": "stream",
     "text": [
      "Processing Images: 100%|█████████▉| 200/201 [00:00<00:00, 289.11it/s]\n",
      "Converting to Gray: 100%|██████████| 200/200 [00:00<00:00, 63752.91it/s]\n",
      "Aplying filter: 100%|██████████| 200/200 [02:12<00:00,  1.50it/s]\n",
      "Generate Mustras: 100%|██████████| 200/200 [00:00<?, ?it/s]\n"
     ]
    }
   ],
   "source": [
    "def main(folder='test', k=32):\n",
    "    images = leer_imagenes(folder)\n",
    "    gray_images = convertir_a_grises(images)\n",
    "    filtered_images = aplicar_filtro_anisotropico(gray_images)\n",
    "    x, y = generar_muestras(gray_images, filtered_images, k=k)\n",
    "    return x, y\n",
    "\n",
    "# Ejecutar la función main\n",
    "x, y = main()\n",
    "X_train, x_test, y_train, y_test = train_test_split(x, y, test_size=0.2, random_state=42)\n"
   ]
  },
  {
   "cell_type": "code",
   "execution_count": 22,
   "metadata": {},
   "outputs": [
    {
     "ename": "ValueError",
     "evalue": "Arguments `target` and `output` must have the same rank (ndim). Received: target.shape=(32, 32, 32), output.shape=(32, 16, 16, 3)",
     "output_type": "error",
     "traceback": [
      "\u001b[1;31m---------------------------------------------------------------------------\u001b[0m",
      "\u001b[1;31mValueError\u001b[0m                                Traceback (most recent call last)",
      "Cell \u001b[1;32mIn[22], line 8\u001b[0m\n\u001b[0;32m      4\u001b[0m model \u001b[38;5;241m=\u001b[39m unet\u001b[38;5;241m.\u001b[39mbuild_model(input_shape)\n\u001b[0;32m      6\u001b[0m model\u001b[38;5;241m.\u001b[39mcompile(optimizer\u001b[38;5;241m=\u001b[39m\u001b[38;5;124m'\u001b[39m\u001b[38;5;124madam\u001b[39m\u001b[38;5;124m'\u001b[39m, loss\u001b[38;5;241m=\u001b[39m\u001b[38;5;124m'\u001b[39m\u001b[38;5;124mbinary_crossentropy\u001b[39m\u001b[38;5;124m'\u001b[39m, metrics\u001b[38;5;241m=\u001b[39m[\u001b[38;5;124m'\u001b[39m\u001b[38;5;124maccuracy\u001b[39m\u001b[38;5;124m'\u001b[39m])\n\u001b[1;32m----> 8\u001b[0m history \u001b[38;5;241m=\u001b[39m \u001b[43mmodel\u001b[49m\u001b[38;5;241;43m.\u001b[39;49m\u001b[43mfit\u001b[49m\u001b[43m(\u001b[49m\n\u001b[0;32m      9\u001b[0m \u001b[43m    \u001b[49m\u001b[43mx\u001b[49m\u001b[38;5;241;43m=\u001b[39;49m\u001b[43mX_train\u001b[49m\u001b[43m,\u001b[49m\u001b[43m \u001b[49m\n\u001b[0;32m     10\u001b[0m \u001b[43m    \u001b[49m\u001b[43my\u001b[49m\u001b[38;5;241;43m=\u001b[39;49m\u001b[43my_train\u001b[49m\u001b[43m,\u001b[49m\u001b[43m \u001b[49m\n\u001b[0;32m     11\u001b[0m \u001b[43m    \u001b[49m\u001b[43mepochs\u001b[49m\u001b[38;5;241;43m=\u001b[39;49m\u001b[38;5;241;43m1\u001b[39;49m\u001b[43m,\u001b[49m\u001b[43m \u001b[49m\n\u001b[0;32m     12\u001b[0m \u001b[43m    \u001b[49m\u001b[43mvalidation_data\u001b[49m\u001b[38;5;241;43m=\u001b[39;49m\u001b[43m(\u001b[49m\u001b[43mx_test\u001b[49m\u001b[43m,\u001b[49m\u001b[43m \u001b[49m\u001b[43my_test\u001b[49m\u001b[43m)\u001b[49m\n\u001b[0;32m     13\u001b[0m \u001b[43m)\u001b[49m\n",
      "File \u001b[1;32mc:\\Users\\Diego-CB\\Documents\\Github\\Semestre-9\\lab3_VC\\venv\\lib\\site-packages\\keras\\src\\utils\\traceback_utils.py:122\u001b[0m, in \u001b[0;36mfilter_traceback.<locals>.error_handler\u001b[1;34m(*args, **kwargs)\u001b[0m\n\u001b[0;32m    119\u001b[0m     filtered_tb \u001b[38;5;241m=\u001b[39m _process_traceback_frames(e\u001b[38;5;241m.\u001b[39m__traceback__)\n\u001b[0;32m    120\u001b[0m     \u001b[38;5;66;03m# To get the full stack trace, call:\u001b[39;00m\n\u001b[0;32m    121\u001b[0m     \u001b[38;5;66;03m# `keras.config.disable_traceback_filtering()`\u001b[39;00m\n\u001b[1;32m--> 122\u001b[0m     \u001b[38;5;28;01mraise\u001b[39;00m e\u001b[38;5;241m.\u001b[39mwith_traceback(filtered_tb) \u001b[38;5;28;01mfrom\u001b[39;00m \u001b[38;5;28;01mNone\u001b[39;00m\n\u001b[0;32m    123\u001b[0m \u001b[38;5;28;01mfinally\u001b[39;00m:\n\u001b[0;32m    124\u001b[0m     \u001b[38;5;28;01mdel\u001b[39;00m filtered_tb\n",
      "File \u001b[1;32mc:\\Users\\Diego-CB\\Documents\\Github\\Semestre-9\\lab3_VC\\venv\\lib\\site-packages\\keras\\src\\backend\\tensorflow\\nn.py:661\u001b[0m, in \u001b[0;36mbinary_crossentropy\u001b[1;34m(target, output, from_logits)\u001b[0m\n\u001b[0;32m    658\u001b[0m output \u001b[38;5;241m=\u001b[39m tf\u001b[38;5;241m.\u001b[39mconvert_to_tensor(output)\n\u001b[0;32m    660\u001b[0m \u001b[38;5;28;01mif\u001b[39;00m \u001b[38;5;28mlen\u001b[39m(target\u001b[38;5;241m.\u001b[39mshape) \u001b[38;5;241m!=\u001b[39m \u001b[38;5;28mlen\u001b[39m(output\u001b[38;5;241m.\u001b[39mshape):\n\u001b[1;32m--> 661\u001b[0m     \u001b[38;5;28;01mraise\u001b[39;00m \u001b[38;5;167;01mValueError\u001b[39;00m(\n\u001b[0;32m    662\u001b[0m         \u001b[38;5;124m\"\u001b[39m\u001b[38;5;124mArguments `target` and `output` must have the same rank \u001b[39m\u001b[38;5;124m\"\u001b[39m\n\u001b[0;32m    663\u001b[0m         \u001b[38;5;124m\"\u001b[39m\u001b[38;5;124m(ndim). Received: \u001b[39m\u001b[38;5;124m\"\u001b[39m\n\u001b[0;32m    664\u001b[0m         \u001b[38;5;124mf\u001b[39m\u001b[38;5;124m\"\u001b[39m\u001b[38;5;124mtarget.shape=\u001b[39m\u001b[38;5;132;01m{\u001b[39;00mtarget\u001b[38;5;241m.\u001b[39mshape\u001b[38;5;132;01m}\u001b[39;00m\u001b[38;5;124m, output.shape=\u001b[39m\u001b[38;5;132;01m{\u001b[39;00moutput\u001b[38;5;241m.\u001b[39mshape\u001b[38;5;132;01m}\u001b[39;00m\u001b[38;5;124m\"\u001b[39m\n\u001b[0;32m    665\u001b[0m     )\n\u001b[0;32m    666\u001b[0m \u001b[38;5;28;01mfor\u001b[39;00m e1, e2 \u001b[38;5;129;01min\u001b[39;00m \u001b[38;5;28mzip\u001b[39m(target\u001b[38;5;241m.\u001b[39mshape, output\u001b[38;5;241m.\u001b[39mshape):\n\u001b[0;32m    667\u001b[0m     \u001b[38;5;28;01mif\u001b[39;00m e1 \u001b[38;5;129;01mis\u001b[39;00m \u001b[38;5;129;01mnot\u001b[39;00m \u001b[38;5;28;01mNone\u001b[39;00m \u001b[38;5;129;01mand\u001b[39;00m e2 \u001b[38;5;129;01mis\u001b[39;00m \u001b[38;5;129;01mnot\u001b[39;00m \u001b[38;5;28;01mNone\u001b[39;00m \u001b[38;5;129;01mand\u001b[39;00m e1 \u001b[38;5;241m!=\u001b[39m e2:\n",
      "\u001b[1;31mValueError\u001b[0m: Arguments `target` and `output` must have the same rank (ndim). Received: target.shape=(32, 32, 32), output.shape=(32, 16, 16, 3)"
     ]
    }
   ],
   "source": [
    "from UNet import UNet\n",
    "input_shape = (32, 32, 1)\n",
    "unet = UNet()\n",
    "model = unet.build_model(input_shape)\n",
    "\n",
    "model.compile(optimizer='adam', loss='binary_crossentropy', metrics=['accuracy'])\n",
    "\n",
    "history = model.fit(\n",
    "    x=X_train, \n",
    "    y=y_train, \n",
    "    epochs=1, \n",
    "    validation_data=(x_test, y_test)\n",
    ")"
   ]
  }
 ],
 "metadata": {
  "interpreter": {
   "hash": "aee8b7b246df8f9039afb4144a1f6fd8d2ca17a180786b69acc140d282b71a49"
  },
  "kernelspec": {
   "display_name": "Python 3.11.4 64-bit",
   "language": "python",
   "name": "python3"
  },
  "language_info": {
   "codemirror_mode": {
    "name": "ipython",
    "version": 3
   },
   "file_extension": ".py",
   "mimetype": "text/x-python",
   "name": "python",
   "nbconvert_exporter": "python",
   "pygments_lexer": "ipython3",
   "version": "3.10.11"
  },
  "orig_nbformat": 4
 },
 "nbformat": 4,
 "nbformat_minor": 2
}
