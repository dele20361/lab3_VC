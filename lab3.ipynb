{
 "cells": [
  {
   "cell_type": "code",
   "execution_count": 1,
   "metadata": {},
   "outputs": [
    {
     "name": "stderr",
     "output_type": "stream",
     "text": [
      "2024-05-16 21:39:34.600646: I tensorflow/core/platform/cpu_feature_guard.cc:182] This TensorFlow binary is optimized to use available CPU instructions in performance-critical operations.\n",
      "To enable the following instructions: AVX2 FMA, in other operations, rebuild TensorFlow with the appropriate compiler flags.\n"
     ]
    }
   ],
   "source": [
    "import cv2\n",
    "import os\n",
    "import numpy as np\n",
    "from UNet import UNet\n",
    "from sklearn.model_selection import train_test_split\n",
    "from skimage.restoration import denoise_nl_means, estimate_sigma\n",
    "\n",
    "import numpy as np\n",
    "import cv2\n",
    "import matplotlib.pyplot as plt\n",
    "from tensorflow.keras.models import Model\n",
    "from tensorflow.keras.layers import Input, Conv2D, MaxPooling2D, UpSampling2D, concatenate\n",
    "from sklearn.model_selection import train_test_split\n"
   ]
  },
  {
   "cell_type": "code",
   "execution_count": 2,
   "metadata": {},
   "outputs": [],
   "source": [
    "def leer_imagenes(folder):\n",
    "    images = []\n",
    "    for filename in os.listdir(folder):\n",
    "        img = cv2.imread(os.path.join(folder, filename))\n",
    "        if img is not None:\n",
    "            images.append(img)\n",
    "    return images"
   ]
  },
  {
   "cell_type": "code",
   "execution_count": 3,
   "metadata": {},
   "outputs": [],
   "source": [
    "def convertir_a_grises(images):\n",
    "    gray_images = [cv2.cvtColor(img, cv2.COLOR_BGR2GRAY) for img in images]\n",
    "    return gray_images\n"
   ]
  },
  {
   "cell_type": "code",
   "execution_count": 4,
   "metadata": {},
   "outputs": [],
   "source": [
    "from skimage.restoration import denoise_nl_means, estimate_sigma\n",
    "\n",
    "def aplicar_filtro_anisotropico(images):\n",
    "    filtered_images = []\n",
    "    for image in images:\n",
    "        sigma_est = np.mean(estimate_sigma(image))\n",
    "        denoised = denoise_nl_means(image, h=1.15 * sigma_est, fast_mode=True,\n",
    "                                    patch_size=5, patch_distance=6)\n",
    "        filtered_images.append(denoised)\n",
    "    return filtered_images\n",
    "\n"
   ]
  },
  {
   "cell_type": "code",
   "execution_count": 5,
   "metadata": {},
   "outputs": [],
   "source": [
    "def extract_patches(images, filtered_images, patch_size=32, num_patches=500000):\n",
    "    xi, yi = [], []\n",
    "    total_patches_per_image = num_patches // len(images)\n",
    "    \n",
    "    for img, filt_img in zip(images, filtered_images):\n",
    "        count = 0\n",
    "        while count < total_patches_per_image:\n",
    "            i = np.random.randint(0, img.shape[0] - patch_size)\n",
    "            j = np.random.randint(0, img.shape[1] - patch_size)\n",
    "            xi.append(img[i:i+patch_size, j:j+patch_size])\n",
    "            yi.append(filt_img[i:i+patch_size, j:j+patch_size])\n",
    "            count += 1\n",
    "    \n",
    "    return np.array(xi), np.array(yi)"
   ]
  },
  {
   "cell_type": "code",
   "execution_count": 6,
   "metadata": {},
   "outputs": [
    {
     "name": "stdout",
     "output_type": "stream",
     "text": [
      "xi shape: (500000, 32, 32), yi shape: (500000, 32, 32)\n",
      "Train shapes - xi: (400000, 32, 32), yi: (400000, 32, 32)\n",
      "Test shapes - xi: (100000, 32, 32), yi: (100000, 32, 32)\n"
     ]
    }
   ],
   "source": [
    "def main(folder='test', k=32):\n",
    "    images = leer_imagenes(folder)\n",
    "    gray_images = convertir_a_grises(images)\n",
    "    filtered_images = aplicar_filtro_anisotropico(gray_images)\n",
    "    xi, yi = extract_patches(gray_images, filtered_images, patch_size=32)\n",
    "\n",
    "    return xi, yi\n",
    "\n",
    "# Ejecutar la función main\n",
    "xi, yi  = main()\n",
    "xi_train, xi_test, yi_train, yi_test = train_test_split(xi, yi, test_size=0.2)\n",
    "\n",
    "print(f\"xi shape: {xi.shape}, yi shape: {yi.shape}\")\n",
    "print(f\"Train shapes - xi: {xi_train.shape}, yi: {yi_train.shape}\")\n",
    "print(f\"Test shapes - xi: {xi_test.shape}, yi: {yi_test.shape}\")\n",
    "\n",
    "def unet_model(input_size=(32, 32, 1)):\n",
    "    inputs = Input(input_size)\n",
    "    conv1 = Conv2D(32, 3, activation='relu', padding='same')(inputs)\n",
    "    pool1 = MaxPooling2D(pool_size=(2, 2))(conv1)\n",
    "    conv2 = Conv2D(64, 3, activation='relu', padding='same')(pool1)\n",
    "    up1 = UpSampling2D(size=(2, 2))(conv2)\n",
    "    merge1 = concatenate([conv1, up1], axis=3)\n",
    "    conv3 = Conv2D(32, 3, activation='relu', padding='same')(merge1)\n",
    "    conv4 = Conv2D(1, 1, activation='sigmoid')(conv3)\n",
    "    model = Model(inputs=inputs, outputs=conv4)\n",
    "    return model\n",
    "\n",
    "model = unet_model()\n",
    "model.compile(optimizer='adam', loss='mean_squared_error', metrics=['accuracy'])\n",
    "model.fit(xi_train.reshape(-1, 32, 32, 1), yi_train.reshape(-1, 32, 32, 1), epochs=15, batch_size=64, validation_split=0.1)\n",
    "\n",
    "\n"
   ]
  },
  {
   "cell_type": "code",
   "execution_count": null,
   "metadata": {},
   "outputs": [],
   "source": []
  },
  {
   "cell_type": "code",
   "execution_count": null,
   "metadata": {},
   "outputs": [],
   "source": [
    "# input_shape = (32, 32, 1)\n",
    "# unet = UNet()\n",
    "# model = unet.build_model(input_shape)\n"
   ]
  },
  {
   "cell_type": "code",
   "execution_count": null,
   "metadata": {},
   "outputs": [],
   "source": [
    "# history = model.fit(X_train, epochs=20, validation_data=x_test)"
   ]
  }
 ],
 "metadata": {
  "interpreter": {
   "hash": "aee8b7b246df8f9039afb4144a1f6fd8d2ca17a180786b69acc140d282b71a49"
  },
  "kernelspec": {
   "display_name": "Python 3.11.4 64-bit",
   "language": "python",
   "name": "python3"
  },
  "language_info": {
   "codemirror_mode": {
    "name": "ipython",
    "version": 3
   },
   "file_extension": ".py",
   "mimetype": "text/x-python",
   "name": "python",
   "nbconvert_exporter": "python",
   "pygments_lexer": "ipython3",
   "version": "3.11.4"
  },
  "orig_nbformat": 4
 },
 "nbformat": 4,
 "nbformat_minor": 2
}
