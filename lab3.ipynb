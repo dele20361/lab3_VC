{
 "cells": [
  {
   "cell_type": "code",
   "execution_count": 12,
   "metadata": {},
   "outputs": [],
   "source": [
    "import numpy as np\n",
    "import cv2\n",
    "import os\n",
    "from skimage.restoration import denoise_nl_means, estimate_sigma\n",
    "from sklearn.model_selection import train_test_split"
   ]
  },
  {
   "cell_type": "code",
   "execution_count": 13,
   "metadata": {},
   "outputs": [],
   "source": [
    "def leer_imagenes(folder):\n",
    "    images = []\n",
    "    for filename in os.listdir(folder):\n",
    "        img = cv2.imread(os.path.join(folder, filename))\n",
    "        if img is not None:\n",
    "            images.append(img)\n",
    "    return images"
   ]
  },
  {
   "cell_type": "code",
   "execution_count": 14,
   "metadata": {},
   "outputs": [],
   "source": [
    "def convertir_a_grises(images):\n",
    "    gray_images = [cv2.cvtColor(img, cv2.COLOR_BGR2GRAY) for img in images]\n",
    "    gray_images = [np.expand_dims(img, axis=-1) for img in gray_images]  # Aseguramos que las imágenes tengan el canal\n",
    "    return gray_images\n"
   ]
  },
  {
   "cell_type": "code",
   "execution_count": 15,
   "metadata": {},
   "outputs": [],
   "source": [
    "from skimage.restoration import denoise_nl_means, estimate_sigma\n",
    "\n",
    "def aplicar_filtro_anisotropico(images):\n",
    "    filtered_images = []\n",
    "    for image in images:\n",
    "        # Asegúrate de que image tiene la forma esperada, o ajusta el channel_axis\n",
    "        # Si las imágenes son (altura, anchura, 1), usa channel_axis=-1\n",
    "        sigma_est = np.mean(estimate_sigma(image, channel_axis=-1))\n",
    "        denoised = denoise_nl_means(image, h=1.15 * sigma_est, fast_mode=True,\n",
    "                                    patch_size=5, patch_distance=6)\n",
    "        filtered_images.append(denoised)\n",
    "    return filtered_images\n"
   ]
  },
  {
   "cell_type": "code",
   "execution_count": 16,
   "metadata": {},
   "outputs": [],
   "source": [
    "def generar_muestras(images, filtered_images, k=32):\n",
    "    x_list = []\n",
    "    y_list = []\n",
    "    for img, filtered_img in zip(images, filtered_images):\n",
    "        x, y = np.random.randint(0, img.shape[0] - k), np.random.randint(0, img.shape[1] - k)\n",
    "        original_patch = img[x:x+k, y:y+k]\n",
    "        filtered_patch = filtered_img[x:x+k, y:y+k]\n",
    "        x_list.append(original_patch)\n",
    "        y_list.append(filtered_patch)\n",
    "    return np.array(x_list), np.array(y_list)  \n"
   ]
  },
  {
   "cell_type": "code",
   "execution_count": 17,
   "metadata": {},
   "outputs": [],
   "source": [
    "def main(folder='test', k=32):\n",
    "    images = leer_imagenes(folder)\n",
    "    gray_images = convertir_a_grises(images)\n",
    "    filtered_images = aplicar_filtro_anisotropico(gray_images)\n",
    "    x, y = generar_muestras(gray_images, filtered_images, k=k)\n",
    "    return x, y\n",
    "\n",
    "# Ejecutar la función main\n",
    "x, y = main()\n",
    "X_train, x_test, y_train, y_test = train_test_split(x, y, test_size=0.2, random_state=42)\n"
   ]
  },
  {
   "cell_type": "code",
   "execution_count": null,
   "metadata": {},
   "outputs": [],
   "source": [
    "input_shape = (32, 32, 1)\n",
    "unet = UNet()\n",
    "model = unet.build_model(input_shape)\n",
    "\n",
    "model.compile(optimizer='adam', loss='binary_crossentropy', metrics=['accuracy'])\n",
    "\n",
    "history = model.fit(\n",
    "    x=X_train, \n",
    "    y=y_train, \n",
    "    epochs=20, \n",
    "    validation_data=(x_test, y_test)\n",
    ")"
   ]
  }
 ],
 "metadata": {
  "interpreter": {
   "hash": "aee8b7b246df8f9039afb4144a1f6fd8d2ca17a180786b69acc140d282b71a49"
  },
  "kernelspec": {
   "display_name": "Python 3.11.4 64-bit",
   "language": "python",
   "name": "python3"
  },
  "language_info": {
   "codemirror_mode": {
    "name": "ipython",
    "version": 3
   },
   "file_extension": ".py",
   "mimetype": "text/x-python",
   "name": "python",
   "nbconvert_exporter": "python",
   "pygments_lexer": "ipython3",
   "version": "3.11.2"
  },
  "orig_nbformat": 4
 },
 "nbformat": 4,
 "nbformat_minor": 2
}
